{
 "cells": [
  {
   "cell_type": "markdown",
   "metadata": {},
   "source": [
    "#### Dataset Description\n",
    "---\n",
    "https://www.kaggle.com/blastchar/telco-customer-churn\n",
    "\n",
    "data dicitionary, or description of the variables:\n",
    "\n",
    "- customerID: Customer ID\n",
    "- genderCustomer: gender (female, male)\n",
    "- SeniorCitizen: Whether the customer is a senior citizen or not (1, 0)\n",
    "- PartnerWhether: the customer has a partner or not (Yes, No)\n",
    "- Dependents: Whether the customer has dependents or not (Yes, No)\n",
    "- tenure: Number of months the customer has stayed with the company\n",
    "- PhoneService: Whether the customer has a phone service or not (Yes, No)\n",
    "- MultipleLines: Whether the customer has multiple lines or not (Yes, No, No phone service)\n",
    "- InternetService: Customer’s internet service provider (DSL, Fiber optic, No)\n",
    "- OnlineSecurity: Whether the customer has online security or not (Yes, No, No internet service)\n",
    "- OnlineBackup: Whether the customer has online backup or not (Yes, No, No internet service)\n",
    "- DeviceProtection: Whether the customer has device protection or not (Yes, No, No internet service)\n",
    "- TechSupport: Whether the customer has tech support or not (Yes, No, No internet service)\n",
    "- StreamingTV: Whether the customer has streaming TV or not (Yes, No, No internet service)\n",
    "- StreamingMovies: Whether the customer has streaming movies or not (Yes, No, No internet service)\n",
    "- Contract: The contract term of the customer (Month-to-month, One year, Two year)\n",
    "- PaperlessBilling: Whether the customer has paperless billing or not (Yes, No)\n",
    "- PaymentMethod: The customer’s payment method (Electronic check, Mailed check, Bank transfer (automatic), Credit card (automatic))\n",
    "- MonthlyCharges: The amount charged to the customer monthly\n",
    "- TotalCharges: The total amount charged to the customer\n",
    "- Churn: Whether the customer churned or not (Yes or No)"
   ]
  },
  {
   "cell_type": "markdown",
   "metadata": {},
   "source": [
    "### Business Questions\n",
    "---\n",
    "- what is the ratio between males and females in our company?\n",
    "- what is the ratio between Senior Citizens and others in our company?\n",
    "- what is the ratio between who has partners and not in our company?\n",
    "- what is the ratio between who has dependents and not in our company?\n",
    "- what is the ratio between who has MultipleLines and not in our company?\n",
    "- how many Internet Services we provide in our company? - list names and ratio please - \n",
    "- what is our Contract types we provide? - names and ratio please-\n",
    "- how many customers uses StreamingTV ?\n",
    "- what is the ratio between users who streaming movies to StreamingTV subscribers?\n",
    "- who is the the most important customer in the company according to Monthly and Total charges?\n",
    "- how many payment methods we provide? and what is the ratio between each others?\n",
    "- what is our churn rate?\n",
    "- what is the average monthly charge?"
   ]
  }
 ],
 "metadata": {
  "kernelspec": {
   "display_name": "Python 3",
   "language": "python",
   "name": "python3"
  },
  "language_info": {
   "codemirror_mode": {
    "name": "ipython",
    "version": 3
   },
   "file_extension": ".py",
   "mimetype": "text/x-python",
   "name": "python",
   "nbconvert_exporter": "python",
   "pygments_lexer": "ipython3",
   "version": "3.8.5"
  }
 },
 "nbformat": 4,
 "nbformat_minor": 4
}
