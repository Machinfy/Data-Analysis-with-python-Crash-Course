{
 "cells": [
  {
   "cell_type": "markdown",
   "metadata": {},
   "source": [
    "#### Dataset Description\n",
    "---\n",
    "https://github.com/Machinfy/Data-Analysis-with-python-Crash-Course/blob/main/Orange_Telecom_Churn_Data.csv\n",
    "\n",
    "data dicitionary, or description of the variables:\n",
    "\n",
    "- <b>state</b> : the state code for this user (String)\n",
    "- <b>account_length</b> : the age of this account - consider it into months - (int)\n",
    "- <b>area_code</b> : the code for area for this account (int)\n",
    "- <b>phone_number</b> : the account number for this user (string)\n",
    "- <b>intl_plan</b> : if user has intl plan or not (string)\n",
    "- <b>voice_mail_plan</b> : if user has voice mail plan or not (string)\n",
    "- <b>number_vmail_messages</b> : count of voice mail messages sent by this user (int)\n",
    "- <b>total_day_minutes</b> : the total minutes for day (float)\n",
    "- <b>total_day_calls</b> : count of calls made at day (int)\n",
    "- <b>total_day_charge</b> : cost of all minuts and calls during day (float)\n",
    "- <b>total_eve_minutes</b> : the total minutes for eve (float)\n",
    "- <b>total_eve_calls</b> :  count of calls made at eve (int)\n",
    "- <b>total_eve_charge</b> : cost of all minuts and calls during eve (float)\n",
    "- <b>total_night_minutes</b> : the total minutes for night (float)\n",
    "- <b>total_night_calls</b> : count of calls made at night (int)\n",
    "- <b>total_night_charge</b> : cost of all minuts and calls during night (float)\n",
    "- <b>total_intl_minutes</b> : the total minutes for intl (float)\n",
    "- <b>total_intl_calls</b> : the total calls made for intl (int)\n",
    "- <b>total_intl_charge</b> : cost of all minuts and calls during intl (float)\n",
    "- <b>number_customer_service_calls</b> : how many times he called customer service (int)\n",
    "- <b>churned</b> : churned or not (boolean)"
   ]
  },
  {
   "cell_type": "markdown",
   "metadata": {},
   "source": [
    "### Business Questions\n",
    "---\n",
    "- how many states we have and what is the count for users in each state?\n",
    "- what is the age of the oldest account we have in our company?\n",
    "- how many intl plan subscriber?\n",
    "- how many voice mail subscriber?\n",
    "- what is the average voice mail messages sent by who subscribed in voice mail plan <b>ONLY</b>?\n",
    "- what is the average minutes for day, eve, night and intl?\n",
    "- what is the average call counts for day, eve, night and intl?\n",
    "- what is the average charge for day, eve, night and intl?\n",
    "- what is the churn rate in our company?\n",
    "- True of False for:\n",
    "    - calls during day is more worthy than night?\n",
    "    - charge during night is cheaper than eve?\n",
    "- recommend the best time we can offer a free minutes for customers? [optional]"
   ]
  }
 ],
 "metadata": {
  "kernelspec": {
   "display_name": "Python 3",
   "language": "python",
   "name": "python3"
  },
  "language_info": {
   "codemirror_mode": {
    "name": "ipython",
    "version": 3
   },
   "file_extension": ".py",
   "mimetype": "text/x-python",
   "name": "python",
   "nbconvert_exporter": "python",
   "pygments_lexer": "ipython3",
   "version": "3.8.5"
  }
 },
 "nbformat": 4,
 "nbformat_minor": 4
}
